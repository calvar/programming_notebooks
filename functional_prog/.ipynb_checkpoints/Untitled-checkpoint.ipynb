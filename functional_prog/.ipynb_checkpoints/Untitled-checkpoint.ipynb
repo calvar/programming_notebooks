{
 "cells": [
  {
   "cell_type": "markdown",
   "metadata": {},
   "source": [
    "# ====== Functional programming with python ======"
   ]
  },
  {
   "cell_type": "code",
   "execution_count": 55,
   "metadata": {},
   "outputs": [],
   "source": [
    "import numpy as np\n",
    "import time\n",
    "import operator"
   ]
  },
  {
   "cell_type": "markdown",
   "metadata": {},
   "source": [
    "## Example: Interactive calculator\n",
    "Procedural programming:\n",
    "- Line by line\n",
    "- Heavy use of statements\n",
    "- Heavy use of expressions\n",
    "- Large functions\n",
    "\n",
    "Functional programming:\n",
    "- Little use of statements\n",
    "- Heavy use of expressions\n",
    "- Single-line functions\n"
   ]
  },
  {
   "cell_type": "markdown",
   "metadata": {},
   "source": [
    "### A procedural approach to the calculator:\n",
    "Heavy use of loop and conditional statements."
   ]
  },
  {
   "cell_type": "code",
   "execution_count": 2,
   "metadata": {},
   "outputs": [
    {
     "name": "stdout",
     "output_type": "stream",
     "text": [
      "Welcome to our calculator!\n",
      "Enter an integer: 3\n",
      "Enter an operator (+,-,*, or /): -\n",
      "Enter an integer: 4\n",
      "The result is: -1\n"
     ]
    }
   ],
   "source": [
    "OPERATORS = '+', '-', '*', '/'\n",
    "\n",
    "def p_main():\n",
    "    print(\"Welcome to our calculator!\")\n",
    "    number1 = p_get_number()\n",
    "    operator = p_get_operator()\n",
    "    number2 = p_get_number()\n",
    "    result = p_calculate(number1, operator, number2)\n",
    "    print(\"The result is: %s\" % result)\n",
    "    \n",
    "def p_get_number():\n",
    "    while True:\n",
    "        s = input(\"Enter an integer: \")\n",
    "        try:\n",
    "            return int(s)\n",
    "        except ValueError:\n",
    "            print(\"Thats not an integer!\")\n",
    "        \n",
    "def p_get_operator():\n",
    "    s = input(\"Enter an operator (+,-,*, or /): \")\n",
    "    if s in OPERATORS:\n",
    "        return s\n",
    "    print(\"That is not an operator!\")\n",
    "\n",
    "def p_calculate(n1, op, n2):\n",
    "    if op == '+':\n",
    "        return n1 + n2\n",
    "    elif op == '-':\n",
    "        return n1 - n2\n",
    "    elif op == '*':\n",
    "        return n1 * n2\n",
    "    elif op == '/':\n",
    "        return n1 / n2\n",
    "    raise Exception('Invalid operator!')\n",
    "    \n",
    "p_main()"
   ]
  },
  {
   "cell_type": "markdown",
   "metadata": {},
   "source": [
    "### A functional approach to the calculator:\n",
    "Functions tend to consist of a single expression"
   ]
  },
  {
   "cell_type": "code",
   "execution_count": 3,
   "metadata": {},
   "outputs": [
    {
     "name": "stdout",
     "output_type": "stream",
     "text": [
      "Enter an integer: 4\n",
      "Enter an operator (+,-,*, or /): -\n",
      "Enter an integer: 5\n",
      "The result is -1\n"
     ]
    }
   ],
   "source": [
    "OPERATORS = '+', '-', '*', '/'\n",
    "\n",
    "def f_main():\n",
    "    return f_calculate(f_get_number(), f_get_operator(), f_get_number())\n",
    "\n",
    "def f_calculate(n1, op, n2):\n",
    "    return n1 + n2 if op == '+' \\\n",
    "        else n1 - n2 if op == '-' \\\n",
    "        else n1 * n2 if op == '*' \\\n",
    "        else n1 / n2 if op == '/' \\\n",
    "        else None\n",
    "\n",
    "#It will be shown how to make this function type-safe later\n",
    "def f_get_number():\n",
    "    return int(input(\"Enter an integer: \"))\n",
    "\n",
    "#It will be shown how to make this function type-safe later\n",
    "def f_get_operator():\n",
    "    return input(\"Enter an operator (+,-,*, or /): \")\n",
    "\n",
    "print(\"The result is %s\" % f_main())"
   ]
  },
  {
   "cell_type": "markdown",
   "metadata": {},
   "source": [
    "# State of a program\n",
    "A program manupulates objects, and each of these objects has a current state (the state of an int object is its value, for example). The state of the program refers to the set of states of all its objects at a certain time."
   ]
  },
  {
   "cell_type": "markdown",
   "metadata": {},
   "source": [
    "### Stateless functions\n",
    "The state of the program might affect the result of a function, for example when a function depends on a global variable. A stateless function is one that, given a particular set of arguments, always returns the same value, regardless of the state of the system."
   ]
  },
  {
   "cell_type": "code",
   "execution_count": 4,
   "metadata": {},
   "outputs": [
    {
     "name": "stdout",
     "output_type": "stream",
     "text": [
      "[John] Hello world!\n",
      "[Carlos] Foobar!\n"
     ]
    }
   ],
   "source": [
    "#Stateful example\n",
    "current_speaker = None #global variable\n",
    "\n",
    "def register(name):\n",
    "    global current_speaker\n",
    "    current_speaker = name\n",
    "\n",
    "def speak(text):\n",
    "    print(\"[%s] %s\" % (current_speaker, text))\n",
    "    \n",
    "register(\"John\")\n",
    "speak(\"Hello world!\")\n",
    "register(\"Carlos\")\n",
    "speak(\"Foobar!\")"
   ]
  },
  {
   "cell_type": "code",
   "execution_count": 5,
   "metadata": {},
   "outputs": [
    {
     "name": "stdout",
     "output_type": "stream",
     "text": [
      "[John] Hello world!\n",
      "[Carlos] Foobar!\n"
     ]
    }
   ],
   "source": [
    "#Another stateful example\n",
    "class Speaker():\n",
    "    def __init__(self, name):\n",
    "        self.name = name\n",
    "    \n",
    "    def speak(self, text):\n",
    "        print(\"[%s] %s\" % (self.name,text))\n",
    "        \n",
    "john = Speaker(\"John\")\n",
    "john.speak(\"Hello world!\")\n",
    "carlos = Speaker(\"Carlos\")\n",
    "carlos.speak(\"Foobar!\")"
   ]
  },
  {
   "cell_type": "markdown",
   "metadata": {},
   "source": [
    "The previous example is statefull because the method speak depends on the state of the object (by means of self)."
   ]
  },
  {
   "cell_type": "code",
   "execution_count": 6,
   "metadata": {},
   "outputs": [
    {
     "name": "stdout",
     "output_type": "stream",
     "text": [
      "[John] Hello world!\n",
      "[Carlos] Foobar!\n"
     ]
    }
   ],
   "source": [
    "#Stateless example\n",
    "def speak(speaker, text):\n",
    "    print(\"[%s] %s\" % (speaker,text))\n",
    "\n",
    "john = \"John\"\n",
    "speak(john, \"Hello world!\")\n",
    "carlos = \"Carlos\"  \n",
    "speak(carlos, \"Foobar!\")"
   ]
  },
  {
   "cell_type": "markdown",
   "metadata": {},
   "source": [
    "In this case the function speak depends solely on its arguments and nothing else. If passed the same arguments it will always give the same result. "
   ]
  },
  {
   "cell_type": "markdown",
   "metadata": {},
   "source": [
    "### Functions without side effects\n",
    "We say that a function has no side effects when its execution does not change the state of the system, that is, it does not modify any of the objects of the program, including its arguments. "
   ]
  },
  {
   "cell_type": "code",
   "execution_count": 7,
   "metadata": {},
   "outputs": [
    {
     "name": "stdout",
     "output_type": "stream",
     "text": [
      "['banana', 'apple', 'strawbery', 'peach']\n"
     ]
    }
   ],
   "source": [
    "#Function with side effects\n",
    "def add_product(basket, product):\n",
    "    basket.append(product)\n",
    "    \n",
    "my_basket = [\"banana\", \"apple\", \"strawbery\"]\n",
    "add_product(my_basket, \"peach\")\n",
    "print(my_basket)"
   ]
  },
  {
   "cell_type": "markdown",
   "metadata": {},
   "source": [
    "The add_product function modified the state of the object my_basket."
   ]
  },
  {
   "cell_type": "code",
   "execution_count": 8,
   "metadata": {},
   "outputs": [
    {
     "name": "stdout",
     "output_type": "stream",
     "text": [
      "['banana', 'apple', 'strawbery', 'peach']\n",
      "['banana', 'apple', 'strawbery']\n"
     ]
    }
   ],
   "source": [
    "#Function without side effects\n",
    "def add_product(basket, product):\n",
    "    temp_basket = basket[:]\n",
    "    temp_basket.append(product)\n",
    "    return temp_basket\n",
    "\n",
    "my_basket = [\"banana\", \"apple\", \"strawbery\"]\n",
    "print(add_product(my_basket, \"peach\"))\n",
    "print(my_basket)"
   ]
  },
  {
   "cell_type": "markdown",
   "metadata": {},
   "source": [
    "The previous function does not affect the state of its basket argument within its execution."
   ]
  },
  {
   "cell_type": "markdown",
   "metadata": {},
   "source": [
    "### Referential transparency\n",
    "We say that a stateless function with no side effects provides *refetential transparency*, which means that its execution is isolated from the rest of the program (no dependencies). This is very convenient for testing functions separately and also allows for their parallel execution.  "
   ]
  },
  {
   "cell_type": "markdown",
   "metadata": {},
   "source": [
    "# Code correctness\n",
    "The correctness of a funtion can be, in theory, formally proven, provided that the function is referentially transparent. This is important because the formal proof of a function in a program is the same as that of a mathematical function, and the result of applting a mathematical function (at leas the deterministic ones) depends solely on the arguments of the funtion and does not modify them in any way.<br>\n",
    "\n",
    "However, proving mathematical funtions can be very difficult and for some real life examples, quite unpractical, which is why most of the time people resort to use unit testing."
   ]
  },
  {
   "cell_type": "markdown",
   "metadata": {},
   "source": [
    "## Unit testing\n",
    "Unit testing consists in runnig a function using a series of inputs for which the output is known."
   ]
  },
  {
   "cell_type": "code",
   "execution_count": 9,
   "metadata": {},
   "outputs": [
    {
     "name": "stdout",
     "output_type": "stream",
     "text": [
      "Starting unit testing:\n",
      "End\n"
     ]
    }
   ],
   "source": [
    "#Unit testing\n",
    "def maximum(a, b, c):\n",
    "    if a > b and a > c:\n",
    "        return a\n",
    "    elif b > c:\n",
    "        return b\n",
    "    else:\n",
    "        return c\n",
    "\n",
    "print(\"Starting unit testing:\")\n",
    "assert(maximum(1,2,3) == 3)\n",
    "assert(maximum(1,3,2) == 3)\n",
    "assert(maximum(1,-2,-3) == 1)\n",
    "assert(maximum(-3,-2,1) == 1)\n",
    "print(\"End\")"
   ]
  },
  {
   "cell_type": "markdown",
   "metadata": {},
   "source": [
    "It is important to note that if the function depended on, for example, some global variable with unknown value within the function, then we could not be sure that the unit tests would be correct, as the global variable could be changed by some external agent."
   ]
  },
  {
   "cell_type": "markdown",
   "metadata": {},
   "source": [
    "## Provability\n",
    "Unit testing is very practical, but in most cases it is not possible to do a unit test for every possible input. When we are able to prove the correctness of a function (or algorithm), we now it is valid (or not) for any and all inputs. However, to be able to prove the correcness of the funtion, it is important for it to be referentially transparent.<br>\n",
    "\n",
    "For the previous case the proof its correctness is simple:<br>\n",
    "```let a > b and a > c, then a is the maximum of a, b, c```<br>\n",
    "```let a <= b and b > c, then b is the maximum of a, b, c```<br>\n",
    "```let a <= b and b <=c, then c is the maximum of a, b, c```<br>\n",
    "but we can prove it only because the function does not depend on the state of the program and does not modify it. If the function depended, say on a global variable G, then we could not know its value and the proof would not be possible."
   ]
  },
  {
   "cell_type": "markdown",
   "metadata": {},
   "source": [
    "# Complexity and deep recursion\n",
    "Recursivity is a propery of functions that call themselves. For example\n",
    "```fact(n) = n * fact(n-1)```. In functional programming many solutions are of the recursive kind, because they avoid the use of loop statements."
   ]
  },
  {
   "cell_type": "code",
   "execution_count": 10,
   "metadata": {},
   "outputs": [
    {
     "name": "stdout",
     "output_type": "stream",
     "text": [
      "1\n",
      "2\n",
      "24\n"
     ]
    }
   ],
   "source": [
    "#Procedural factorial (using iteration)\n",
    "def fact_p(n):\n",
    "    res = 1\n",
    "    for i in range(1,n+1):\n",
    "        res *= i\n",
    "    return res\n",
    "\n",
    "print(fact_p(0))\n",
    "print(fact_p(2))\n",
    "print(fact_p(4))"
   ]
  },
  {
   "cell_type": "code",
   "execution_count": 11,
   "metadata": {},
   "outputs": [
    {
     "name": "stdout",
     "output_type": "stream",
     "text": [
      "1\n",
      "2\n",
      "24\n"
     ]
    }
   ],
   "source": [
    "#Functional factorial (using recursion)\n",
    "def fact_f(n):\n",
    "    if n == 0:\n",
    "        return 1\n",
    "    else:\n",
    "        return n * fact_f(n-1)\n",
    "    \n",
    "print(fact_p(0))\n",
    "print(fact_p(2))\n",
    "print(fact_p(4))"
   ]
  },
  {
   "cell_type": "markdown",
   "metadata": {},
   "source": [
    "Recursive solutions are very elegant as they allow for short, clean algorithms. However ot is important to know that every time a cunction calls itself, the call has to be saved in the stack memory, and the execution is postponed until the more internal calls are resolved. This means that recursive functions can be more memory intensive that iterative functions. For example: "
   ]
  },
  {
   "cell_type": "code",
   "execution_count": 12,
   "metadata": {},
   "outputs": [
    {
     "name": "stdout",
     "output_type": "stream",
     "text": [
      "41493596034378540855568670930866121709511191949318099176894676576975585651235319500860007652178003420075184635383617118495750871114045907794553402161068339611621037904199177522062663390179682805164719697495968842457728766097103003726111095340241127118833157738815328438929737613021106312930374401485378725446079610290429491049793888120762511625132917004641668962117590203575175488980653577868915285093782469994674699190832093511068363824287063522268544339213775150488588104036818809099292912497141900508938994404715351473154531587441509960174267875087460367974117072368747277143988920683691618503608198459718093784453523958505377611086511162363145920886108557450874513945305436213711898150847192094426374203275029996333784944014775671414680824207499914714878359669720638954670589960178569480263388767112871068004950827400717124819476386401369193544354120312786601434792549959143530120653103406625503231020738351502195103148673612338739395096551462159349015789949944072311004426924838140141455487872738045856023561583204317945953055830693351246890721246151468485308724031267967089113548982733475375756899365176396424781733462510879015743437398920492267098317033932107176343983352444576040476565400414414699479984354554597799386702839428513413188913165695310848513525094006147774047007331406541794428004436691903685469270857271701648011512057452448607968773784803660653009109815639091294110633715621540903800135058671624262333902434166628716521228590274568833504897926869369792878376894841436573866436955075473964882256222183380014600761196859217603234808467455216330411738004331144225926243690558782914907973885758784585739828695390302383837265882427654306437517757897215045071361801730051628424476294227485755627828763498767195281368913583918824499284741591683130334032199946752082914885764345863832313545205075955912062067273296951386122994658607527317884452449865348164169238844889061495850934373442889814884427321817131272533891534506581143823381205875379808605080889761753882896252933633750454549168600267229591225528854584482686655324313011353754812409561237686078007700707939541848907149467377854407528307872988103912945121929864793703451257436445581459757140822705986325165352906584571123585270211933452981105568398809884094980346185078025273038736784042169427237980464304250045030806637032760016341921442805708802430850567892108646977455139539119838636167190300278146380136932482332771595180596193069504237836082620570887209297929797429404576877338319877444685544294800321741056689423710545028870419611915072739000031642014474213323293871618029555614004602867400422885389854650328028428515122296028795741801621823236098320971441047012533067314896153236788734984553949604397050352347766211395914519270422122231426998692087463520980686224354813376194395131942868113486531562228173214976481705381846155326596187530296478601160872263640443922257601926494610916885151013143945574398303192557154162151442469122370519149097861849436150963109933639594561796593396851958605338631176324147066842257192394742531726479559749993283247279807896470753054014194090200609712674753186365525403212757757853930697530056595208207457499471898144453772248207888443335118545601568853708182892895218300139654376947286418776665762815389737340159410543681435437346134244692067070082782423645557450882556670157242752810317141640631410681384330924027281318960884813040665226169552825637183862464944295688859393846726723694199475571320546018263425731029115353532728808182773021596787088437293412117084511580629967697266601663635276959969021502122104954259567278593185516268447100374434620422003535391203738393095420695021486207390653190910821344334251497896284236198571674773848126097443055036250866354720730971298084697196537722779893160200560725058007512407494448163392214398118492748281978655178478547749198714138485042290383954090570842038137277135667703565041081780520695032136233521692740531015340921761834078817735674646749071616600653230438902639786065509005309872435445689315601329942407112295015453771521051942445512795364971214872222193729289159833001742397977592530501318837883494884232222507318816399438935627817102875432588794558857742780390717166381257903798149148445526885871629931014510733215554773264576035916184298708323237568837917135073006026738292294687081030751946020376438138677107333779312582257356435534577162804030480925785909747233413932904072239860005448269296110393640127539539899397420021925268928622564959279136369546983247314494094297494213208716963662812963846191378114609210701033012119934264941666449130310898493535366401831282683112506578386425906537197010907276429330534751297336716929415047870949241778121534979499449732358445130210029720359993576507730563696950539990891252004810120090569633144368179194247963563389102486250773367249399801723451627048850149438343735826440053481474957421328873648479589553843836378275601433377798816126854462406494134416119108952653326761627660221130879211665924379496534838030236064294981985541014311566601739518539426008673198564586684635442730180022292607589767192198367529528365158715521887698317999005853121518691037776676883654291247419826099434535671529412823837612115555686210454583810355154404953718470726363218532775486501811002621331228429860926112159573066023932077476742800909462674322138805290643067711276964013735906251051050623568241317651533030775358975134565147424167401517470720839101869989993279364910892687924739705814152855543965954222603919059265825637344676406359525838966981511983959886603683753042017990328185945569412550519066302854869533377682984600031808093822130038102214387057461181304251961916405970456035183121708151658647356556540532928411748628957082856792300053525846377061280591452035546389932127875906349627837975871352588618213252263577038396202737385324908353680497990085701522483303439525197344653342994652565236096742834550523739733902374261808871799283722285366293439240895762913154442106573609205481842139365893867715542842477275100166734357743093638948444564764377184073874379471007867151070449554657626281566137550730763768080600031844296233977808233311359787577136983012817571625671683287281511937336685789437109097748581222868126824122317272681184975207863453107495331708260153159440253645365524453587952034745213429248916644504804355352281977721981971869054884176896398782704782066126921472548618247859626434279190274503452994769367997217285165465591799471789067885687278574470084289723778234763080740919512966238346427839653865017324665850192144091694630371265581197700774682562035198318782913591013997817303635173764706714383992810291224460848320518983248348855131025539721583184931653670732273172995431750775475634748127320956655431851879586978172491721700865768098908327830838240437737974455342525688712898855513180967012497859454290609627370590659970784172738420721605576789060565167694565490120388165775861939230924362983389549857279874523398090499858467484850399509109398834210424693113617875978611803096108774362764990414655167545507613665725914993376114340243762910290384135888531312591132544849225896007184851169390193985434649415483782338302531368775990005443722332901462568184095998830522521585328599833990336595418932696680163265899358234663247080324020429791357425755498549372896192091650794671997121439832581553945835125648010889886887056882711222628734035772418424803231173027338442220604015609242079569493204943809402465562530303328824165302038006041288444384884189129393985971765670211501611340121169355535864984802941563238279447576315042685734269863116562800932164578165410411899078396210758605145091526528422433647230880469088426412525126584729134059195171754291152622002229756986927959124620964363057052133099216422258437651889193630329851223282950806126200573565554213183555838289318138795940962303792777230344423432341561603558590502324475274502630869831414125396371754413611897269158650716722308083435295578401087236027347001118786146233185439431057058483770474806035004556885020602730222256397630738939985024978155182679916994164145540329909813190506654358156657691529068908186204138444091456355291242064901717436430473455191375922914953282988151808740076733486997695322871450791584448703980405737673555777873593937891577147956023340708456392314170118392555234618119775915673385955919265270624063734277760215846511035368057963320714896942663358570375305829676608224208465464558556667889222627619990263961792637457851652540918756608543859661221944248720424960000000000000000000000000000000000000000000000000000000000000000000000000000000000000000000000000000000000000000000000000000000000000000000000000000000000000000000000000000000000000000000000000000000000000000000000000000000000000000000000000000000000000000000000000000000000000000000000000000000000000000000000000000000000000000000000000000000000000000000000000000000000000000000000000000000000000000000000000000000000000000000000000000000000000000000000000000000000000000000000000000000000000000000000000000000000000000000000000000000000000000000000000000000000000000000000000000000000000000000000000000000000000000000000000000000000000000000000000000000000000000000000000000000000000000000000000000000000000000000000000000000000000000000000000000\n"
     ]
    },
    {
     "ename": "RecursionError",
     "evalue": "maximum recursion depth exceeded in comparison",
     "output_type": "error",
     "traceback": [
      "\u001b[0;31m---------------------------------------------------------------------------\u001b[0m",
      "\u001b[0;31mRecursionError\u001b[0m                            Traceback (most recent call last)",
      "\u001b[0;32m<ipython-input-12-541c4892bbaa>\u001b[0m in \u001b[0;36m<module>\u001b[0;34m\u001b[0m\n\u001b[1;32m      1\u001b[0m \u001b[0mprint\u001b[0m\u001b[0;34m(\u001b[0m\u001b[0mfact_p\u001b[0m\u001b[0;34m(\u001b[0m\u001b[0;36m3000\u001b[0m\u001b[0;34m)\u001b[0m\u001b[0;34m)\u001b[0m\u001b[0;34m\u001b[0m\u001b[0;34m\u001b[0m\u001b[0m\n\u001b[0;32m----> 2\u001b[0;31m \u001b[0mprint\u001b[0m\u001b[0;34m(\u001b[0m\u001b[0mfact_f\u001b[0m\u001b[0;34m(\u001b[0m\u001b[0;36m3000\u001b[0m\u001b[0;34m)\u001b[0m\u001b[0;34m)\u001b[0m\u001b[0;34m\u001b[0m\u001b[0;34m\u001b[0m\u001b[0m\n\u001b[0m",
      "\u001b[0;32m<ipython-input-11-3ee6bad26058>\u001b[0m in \u001b[0;36mfact_f\u001b[0;34m(n)\u001b[0m\n\u001b[1;32m      4\u001b[0m         \u001b[0;32mreturn\u001b[0m \u001b[0;36m1\u001b[0m\u001b[0;34m\u001b[0m\u001b[0;34m\u001b[0m\u001b[0m\n\u001b[1;32m      5\u001b[0m     \u001b[0;32melse\u001b[0m\u001b[0;34m:\u001b[0m\u001b[0;34m\u001b[0m\u001b[0;34m\u001b[0m\u001b[0m\n\u001b[0;32m----> 6\u001b[0;31m         \u001b[0;32mreturn\u001b[0m \u001b[0mn\u001b[0m \u001b[0;34m*\u001b[0m \u001b[0mfact_f\u001b[0m\u001b[0;34m(\u001b[0m\u001b[0mn\u001b[0m\u001b[0;34m-\u001b[0m\u001b[0;36m1\u001b[0m\u001b[0;34m)\u001b[0m\u001b[0;34m\u001b[0m\u001b[0;34m\u001b[0m\u001b[0m\n\u001b[0m\u001b[1;32m      7\u001b[0m \u001b[0;34m\u001b[0m\u001b[0m\n\u001b[1;32m      8\u001b[0m \u001b[0mprint\u001b[0m\u001b[0;34m(\u001b[0m\u001b[0mfact_p\u001b[0m\u001b[0;34m(\u001b[0m\u001b[0;36m0\u001b[0m\u001b[0;34m)\u001b[0m\u001b[0;34m)\u001b[0m\u001b[0;34m\u001b[0m\u001b[0;34m\u001b[0m\u001b[0m\n",
      "... last 1 frames repeated, from the frame below ...\n",
      "\u001b[0;32m<ipython-input-11-3ee6bad26058>\u001b[0m in \u001b[0;36mfact_f\u001b[0;34m(n)\u001b[0m\n\u001b[1;32m      4\u001b[0m         \u001b[0;32mreturn\u001b[0m \u001b[0;36m1\u001b[0m\u001b[0;34m\u001b[0m\u001b[0;34m\u001b[0m\u001b[0m\n\u001b[1;32m      5\u001b[0m     \u001b[0;32melse\u001b[0m\u001b[0;34m:\u001b[0m\u001b[0;34m\u001b[0m\u001b[0;34m\u001b[0m\u001b[0m\n\u001b[0;32m----> 6\u001b[0;31m         \u001b[0;32mreturn\u001b[0m \u001b[0mn\u001b[0m \u001b[0;34m*\u001b[0m \u001b[0mfact_f\u001b[0m\u001b[0;34m(\u001b[0m\u001b[0mn\u001b[0m\u001b[0;34m-\u001b[0m\u001b[0;36m1\u001b[0m\u001b[0;34m)\u001b[0m\u001b[0;34m\u001b[0m\u001b[0;34m\u001b[0m\u001b[0m\n\u001b[0m\u001b[1;32m      7\u001b[0m \u001b[0;34m\u001b[0m\u001b[0m\n\u001b[1;32m      8\u001b[0m \u001b[0mprint\u001b[0m\u001b[0;34m(\u001b[0m\u001b[0mfact_p\u001b[0m\u001b[0;34m(\u001b[0m\u001b[0;36m0\u001b[0m\u001b[0;34m)\u001b[0m\u001b[0;34m)\u001b[0m\u001b[0;34m\u001b[0m\u001b[0;34m\u001b[0m\u001b[0m\n",
      "\u001b[0;31mRecursionError\u001b[0m: maximum recursion depth exceeded in comparison"
     ]
    }
   ],
   "source": [
    "print(fact_p(3000))\n",
    "print(fact_f(3000))"
   ]
  },
  {
   "cell_type": "markdown",
   "metadata": {},
   "source": [
    "Note that the call to the recursive function produced a ```RecursionError: maximum recursion depth exceeded in comparison```, which means that it ran out of memory in the stack to store the subsequent calls to the function. "
   ]
  },
  {
   "cell_type": "markdown",
   "metadata": {},
   "source": [
    "# Lambda expressions\n",
    "Before talking about lambda expressions it is important to differentiate between statements and expressions."
   ]
  },
  {
   "cell_type": "markdown",
   "metadata": {},
   "source": [
    "## Statements\n",
    "- Assignments\n",
    "- conditionals, loops, def, class, and so on\n",
    "- Don't evaluate to something\n",
    "\n",
    "Statements are constantly used in procedural programming."
   ]
  },
  {
   "cell_type": "markdown",
   "metadata": {},
   "source": [
    "## Expressions\n",
    "- Evaluate to some value\n",
    "- Function calls are expressions\n",
    "\n",
    "Functional programming is mostly composed of expressions."
   ]
  },
  {
   "cell_type": "markdown",
   "metadata": {},
   "source": [
    "## $\\lambda$ expressions\n",
    "- Lambda functions are expressions. The do not require statements like def\n",
    "- They do not require a name\n",
    "- They are usefull to implement functions that are not too complicated"
   ]
  },
  {
   "cell_type": "code",
   "execution_count": 13,
   "metadata": {},
   "outputs": [
    {
     "data": {
      "text/plain": [
       "3.605551275463989"
      ]
     },
     "execution_count": 13,
     "metadata": {},
     "output_type": "execute_result"
    }
   ],
   "source": [
    "#Procedural function\n",
    "def pythagoras_p(x, y):\n",
    "    return np.sqrt(x**2 + y**2)\n",
    "\n",
    "pythagoras_p(2,3)"
   ]
  },
  {
   "cell_type": "code",
   "execution_count": 14,
   "metadata": {},
   "outputs": [
    {
     "data": {
      "text/plain": [
       "3.605551275463989"
      ]
     },
     "execution_count": 14,
     "metadata": {},
     "output_type": "execute_result"
    }
   ],
   "source": [
    "#Lambda expression\n",
    "(lambda x, y: np.sqrt(x**2 + y**2))(2,3)"
   ]
  },
  {
   "cell_type": "code",
   "execution_count": 16,
   "metadata": {},
   "outputs": [
    {
     "data": {
      "text/plain": [
       "3.605551275463989"
      ]
     },
     "execution_count": 16,
     "metadata": {},
     "output_type": "execute_result"
    }
   ],
   "source": [
    "#We can give a name to the expression by assigning it to a variable\n",
    "pythagoras_l = lambda x, y: np.sqrt(x**2 + y**2)\n",
    "pythagoras_l(2,3)"
   ]
  },
  {
   "cell_type": "markdown",
   "metadata": {},
   "source": [
    "Sometimes is necessary to give lambda expressions a name, for example when using recursion."
   ]
  },
  {
   "cell_type": "code",
   "execution_count": 17,
   "metadata": {},
   "outputs": [
    {
     "data": {
      "text/plain": [
       "24"
      ]
     },
     "execution_count": 17,
     "metadata": {},
     "output_type": "execute_result"
    }
   ],
   "source": [
    "#recursion\n",
    "factorial_l = lambda n: 1 if n <= 1 else n * factorial_l(n-1)\n",
    "factorial_l(4)"
   ]
  },
  {
   "cell_type": "code",
   "execution_count": 18,
   "metadata": {},
   "outputs": [
    {
     "data": {
      "text/plain": [
       "[0, 3, 8, 15]"
      ]
     },
     "execution_count": 18,
     "metadata": {},
     "output_type": "execute_result"
    }
   ],
   "source": [
    "#Apply a function to a list of elements\n",
    "a = [1,2,3,4]\n",
    "list(map(lambda x: x**2-1, a))"
   ]
  },
  {
   "cell_type": "code",
   "execution_count": 19,
   "metadata": {},
   "outputs": [
    {
     "name": "stdout",
     "output_type": "stream",
     "text": [
      "False\n",
      "False\n",
      "True\n"
     ]
    }
   ],
   "source": [
    "#Using boolean expressions \n",
    "VERTEBRATES = ('mammal', 'reptile', 'anphibian', 'fish')\n",
    "EGG_LAYING = ('reptile', 'anphibian', 'fish', 'radiata')\n",
    "\n",
    "is_vertebrate = lambda animal: animal in VERTEBRATES\n",
    "print(is_vertebrate('fungi'))\n",
    "\n",
    "lays_eggs = lambda animal: animal in EGG_LAYING\n",
    "laying_egg_animal = lambda animal: is_vertebrate(animal) and lays_eggs(animal)\n",
    "\n",
    "print(laying_egg_animal('radiata'))\n",
    "print(laying_egg_animal('fish'))"
   ]
  },
  {
   "cell_type": "markdown",
   "metadata": {},
   "source": [
    "## Inline if expressions\n",
    "These are if/else one-line expressions."
   ]
  },
  {
   "cell_type": "code",
   "execution_count": 20,
   "metadata": {},
   "outputs": [
    {
     "data": {
      "text/plain": [
       "5"
      ]
     },
     "execution_count": 20,
     "metadata": {},
     "output_type": "execute_result"
    }
   ],
   "source": [
    "#Procedural funtion using if/else statement\n",
    "def maximum_p(a, b):\n",
    "    if a > b:\n",
    "        return a\n",
    "    else:\n",
    "        return b\n",
    "\n",
    "maximum_p(3,5)"
   ]
  },
  {
   "cell_type": "code",
   "execution_count": 21,
   "metadata": {},
   "outputs": [
    {
     "data": {
      "text/plain": [
       "5"
      ]
     },
     "execution_count": 21,
     "metadata": {},
     "output_type": "execute_result"
    }
   ],
   "source": [
    "#Functional lambda function with if/else expression\n",
    "maximum_l = lambda a, b: a if a > b else b\n",
    "\n",
    "maximum_l(3,5)"
   ]
  },
  {
   "cell_type": "markdown",
   "metadata": {},
   "source": [
    "## Higher order functions\n",
    "These are functions that receive other functions as arguments and/or have other functions as return values, that is, a function that operates on other functions. This can be done because functions in python are objects."
   ]
  },
  {
   "cell_type": "markdown",
   "metadata": {},
   "source": [
    "### Example: timer function"
   ]
  },
  {
   "cell_type": "code",
   "execution_count": 32,
   "metadata": {},
   "outputs": [
    {
     "name": "stdout",
     "output_type": "stream",
     "text": [
      "time: 0.000394\n"
     ]
    }
   ],
   "source": [
    "#Get the execution time of a function, in a procedural way\n",
    "t0 = time.time()\n",
    "factorial_l(900)\n",
    "t1 = time.time()\n",
    "print(\"time: %f\" % (t1-t0))"
   ]
  },
  {
   "cell_type": "code",
   "execution_count": 33,
   "metadata": {},
   "outputs": [
    {
     "name": "stdout",
     "output_type": "stream",
     "text": [
      "time 0.000379\n"
     ]
    }
   ],
   "source": [
    "#Doing it with a wrapper function to measure the execution time of any function\n",
    "def timer(fnc, arg):\n",
    "    t0 = time.time()\n",
    "    fnc(arg)\n",
    "    t1 = time.time()\n",
    "    return t1-t0\n",
    "\n",
    "print(\"time %f\" % (timer(factorial_l, 900)))"
   ]
  },
  {
   "cell_type": "code",
   "execution_count": 34,
   "metadata": {},
   "outputs": [
    {
     "name": "stdout",
     "output_type": "stream",
     "text": [
      "time 0.000388\n"
     ]
    }
   ],
   "source": [
    "#Implement the timer using only lambda expressions (functional way)\n",
    "\n",
    "#Get a tuple with the initial time, function to be evaluated and final time \n",
    "# (arguments are evaluated left to right)\n",
    "timestamp_l = lambda fnc, arg: (time.time(), fnc(arg), time.time()) \n",
    "#Compute the time difference, taking as arguments the time() functions and the function to evaluate\n",
    "diff_l = lambda t0, retval, t1: t1-t0\n",
    "#wrap everything into the timer. the '*' unpacks the tuple into separate arguments\n",
    "timer_l = lambda fnc, arg: diff_l(*timestamp_l(fnc, arg))\n",
    "\n",
    "print(\"time %f\" % (timer_l(factorial_l, 900)))"
   ]
  },
  {
   "cell_type": "markdown",
   "metadata": {},
   "source": [
    "## Nested functions"
   ]
  },
  {
   "cell_type": "markdown",
   "metadata": {},
   "source": [
    "### Scope\n",
    "A variable declared within the body of a function exists only within that function. The scope of the variable is the function."
   ]
  },
  {
   "cell_type": "markdown",
   "metadata": {},
   "source": [
    "### Nesting\n",
    "Nesting functions is the act of declaring a function inside another function. A nested function lives within the scope of the function in which it was declared."
   ]
  },
  {
   "cell_type": "code",
   "execution_count": 36,
   "metadata": {},
   "outputs": [
    {
     "ename": "NameError",
     "evalue": "name 'inner' is not defined",
     "output_type": "error",
     "traceback": [
      "\u001b[0;31m---------------------------------------------------------------------------\u001b[0m",
      "\u001b[0;31mNameError\u001b[0m                                 Traceback (most recent call last)",
      "\u001b[0;32m<ipython-input-36-e1dbb581202c>\u001b[0m in \u001b[0;36m<module>\u001b[0;34m\u001b[0m\n\u001b[1;32m      5\u001b[0m \u001b[0;34m\u001b[0m\u001b[0m\n\u001b[1;32m      6\u001b[0m \u001b[0mouter\u001b[0m\u001b[0;34m(\u001b[0m\u001b[0;34m)\u001b[0m \u001b[0;31m#Ok!\u001b[0m\u001b[0;34m\u001b[0m\u001b[0;34m\u001b[0m\u001b[0m\n\u001b[0;32m----> 7\u001b[0;31m \u001b[0minner\u001b[0m\u001b[0;34m(\u001b[0m\u001b[0;34m)\u001b[0m \u001b[0;31m#Error! out of scope\u001b[0m\u001b[0;34m\u001b[0m\u001b[0;34m\u001b[0m\u001b[0m\n\u001b[0m",
      "\u001b[0;31mNameError\u001b[0m: name 'inner' is not defined"
     ]
    }
   ],
   "source": [
    "#Nesting example\n",
    "def outer():\n",
    "    def inner():\n",
    "        pass\n",
    "    \n",
    "outer() #Ok!\n",
    "inner() #Error! out of scope"
   ]
  },
  {
   "cell_type": "code",
   "execution_count": 39,
   "metadata": {},
   "outputs": [
    {
     "name": "stdout",
     "output_type": "stream",
     "text": [
      "Before outer\n",
      "I'm outer\n",
      "Before inner\n",
      "I'm inner\n",
      "After inner\n",
      "After outer\n"
     ]
    }
   ],
   "source": [
    "#Nesting example\n",
    "def outer():\n",
    "    print(\"I'm outer\")\n",
    "    def inner():\n",
    "        print(\"I'm inner\")\n",
    "        \n",
    "    print(\"Before inner\")\n",
    "    inner()\n",
    "    print(\"After inner\")\n",
    "\n",
    "print(\"Before outer\")\n",
    "outer()\n",
    "print(\"After outer\")"
   ]
  },
  {
   "cell_type": "code",
   "execution_count": 42,
   "metadata": {},
   "outputs": [
    {
     "name": "stdout",
     "output_type": "stream",
     "text": [
      "Before outer: global\n",
      "I'm outer\n",
      "Before inner: global\n",
      "I'm inner\n",
      "After inner: global\n",
      "After outer: global\n"
     ]
    }
   ],
   "source": [
    "#Nesting example (global variable)\n",
    "def outer():\n",
    "    print(\"I'm outer\")\n",
    "    def inner():\n",
    "        print(\"I'm inner\")\n",
    "        \n",
    "    print(\"Before inner: %s\" % x)\n",
    "    inner()\n",
    "    print(\"After inner: %s\" % x)\n",
    "\n",
    "x = 'global' #Define a variable within the broadest scope\n",
    "print(\"Before outer: %s\" % x)\n",
    "outer()\n",
    "print(\"After outer: %s\" % x)"
   ]
  },
  {
   "cell_type": "code",
   "execution_count": 44,
   "metadata": {},
   "outputs": [
    {
     "name": "stdout",
     "output_type": "stream",
     "text": [
      "Before outer: global\n",
      "Before inner: outer\n",
      "Inner: inner\n",
      "After inner: outer\n",
      "After outer: global\n"
     ]
    }
   ],
   "source": [
    "#Nesting example (We actually have 3 different variables! one within each scope)\n",
    "def outer():\n",
    "    def inner():\n",
    "        x = 'inner'   #This x is declared within inner scope\n",
    "        print(\"Inner: %s\" % x)\n",
    "        \n",
    "    x = 'outer'  #This x is declared within the outer scope\n",
    "    print(\"Before inner: %s\" % x)\n",
    "    inner()\n",
    "    print(\"After inner: %s\" % x)\n",
    "\n",
    "x = 'global' #This x is declared within the global scope\n",
    "print(\"Before outer: %s\" % x)\n",
    "outer()\n",
    "print(\"After outer: %s\" % x)"
   ]
  },
  {
   "cell_type": "code",
   "execution_count": 49,
   "metadata": {},
   "outputs": [
    {
     "name": "stdout",
     "output_type": "stream",
     "text": [
      "Before outer: global\n",
      "Before inner: outer\n",
      "Inner: inner\n",
      "After inner: inner\n",
      "After outer: inner\n"
     ]
    }
   ],
   "source": [
    "#Nesting example. In order to have a trully global variable we have to use the 'global' keyword\n",
    "def outer():\n",
    "    global x #Announce that x is global\n",
    "    \n",
    "    def inner():\n",
    "        global x #Announce that x is global\n",
    "        x = 'inner'   #This is the same x\n",
    "        print(\"Inner: %s\" % x)\n",
    "        \n",
    "    x = 'outer'  #This is the same x\n",
    "    print(\"Before inner: %s\" % x)\n",
    "    inner()\n",
    "    print(\"After inner: %s\" % x)\n",
    "\n",
    "x = 'global' #This x is declared within the global scope\n",
    "print(\"Before outer: %s\" % x)\n",
    "outer()\n",
    "print(\"After outer: %s\" % x)"
   ]
  },
  {
   "cell_type": "markdown",
   "metadata": {},
   "source": [
    "## Functions as return values\n",
    "As functions are objects in python, they can be declared within another function and returned."
   ]
  },
  {
   "cell_type": "markdown",
   "metadata": {},
   "source": [
    "Let's create some lambda experssions (functions) for a croissant baking algorithm:"
   ]
  },
  {
   "cell_type": "code",
   "execution_count": 50,
   "metadata": {},
   "outputs": [],
   "source": [
    "preheat_oven = lambda: print(\"Preheating oven...\")\n",
    "put_croissants_in = lambda: print(\"Puting croissants in...\")\n",
    "wait_five_minutes = lambda: print(\"Waiting five minutes...\")\n",
    "take_croissants_out = lambda: print(\"Taking croissants out.\")"
   ]
  },
  {
   "cell_type": "markdown",
   "metadata": {},
   "source": [
    "Run the steps in order:"
   ]
  },
  {
   "cell_type": "code",
   "execution_count": 51,
   "metadata": {},
   "outputs": [
    {
     "name": "stdout",
     "output_type": "stream",
     "text": [
      "Preheating oven...\n",
      "Puting croissants in...\n",
      "Waiting five minutes...\n",
      "Taking croissants out.\n"
     ]
    }
   ],
   "source": [
    "preheat_oven()\n",
    "put_croissants_in()\n",
    "wait_five_minutes()\n",
    "take_croissants_out()"
   ]
  },
  {
   "cell_type": "markdown",
   "metadata": {},
   "source": [
    "We begin by creating a funtion that receives the steps in order and performs them one by one. "
   ]
  },
  {
   "cell_type": "code",
   "execution_count": 53,
   "metadata": {},
   "outputs": [
    {
     "name": "stdout",
     "output_type": "stream",
     "text": [
      "Preheating oven...\n",
      "Puting croissants in...\n",
      "Waiting five minutes...\n",
      "Taking croissants out.\n"
     ]
    }
   ],
   "source": [
    "def perform_steps(*functions):\n",
    "    for func in functions:\n",
    "        func()\n",
    "    \n",
    "perform_steps(preheat_oven, \n",
    "              put_croissants_in,\n",
    "              wait_five_minutes,\n",
    "              take_croissants_out)"
   ]
  },
  {
   "cell_type": "markdown",
   "metadata": {},
   "source": [
    "We can also define a function that will create another function (a recipe) and returns it."
   ]
  },
  {
   "cell_type": "code",
   "execution_count": 54,
   "metadata": {},
   "outputs": [
    {
     "name": "stdout",
     "output_type": "stream",
     "text": [
      "Preheating oven...\n",
      "Puting croissants in...\n",
      "Waiting five minutes...\n",
      "Taking croissants out.\n"
     ]
    }
   ],
   "source": [
    "def create_recipe(*functions):\n",
    "    def run_all():\n",
    "        for func in functions:\n",
    "            func()\n",
    "            \n",
    "    return run_all\n",
    "\n",
    "recipe = create_recipe(preheat_oven, \n",
    "              put_croissants_in,\n",
    "              wait_five_minutes,\n",
    "              take_croissants_out)\n",
    "\n",
    "recipe()"
   ]
  },
  {
   "cell_type": "markdown",
   "metadata": {},
   "source": [
    "## Operators as functions\n",
    "In python, the **operator** module allows us to use the functional form of the basic operators, like +,-,*,/ and others. So, assume we want to create a function that takes the return value of several other functions and applies a particular arithmetic or boolean operation to all these results:"
   ]
  },
  {
   "cell_type": "code",
   "execution_count": 60,
   "metadata": {},
   "outputs": [
    {
     "name": "stdout",
     "output_type": "stream",
     "text": [
      "240\n",
      "122\n"
     ]
    }
   ],
   "source": [
    "#Function to apply a binary operator (how) to the return values of a list of functions and its arguments (what)\n",
    "def chain(how, *what):\n",
    "    total = 0\n",
    "    if how == operator.mul or how == operator.truediv:\n",
    "        total = 1\n",
    "    \n",
    "    for (fnc, arg) in what:\n",
    "        total = how(total, fnc(arg))\n",
    "    return total\n",
    "\n",
    "\n",
    "print(chain(operator.mul, (factorial_l, 2), (factorial_l, 5))) # 2! * 5!\n",
    "print(chain(operator.add, (factorial_l, 2), (factorial_l, 5))) # 2! + 5!"
   ]
  },
  {
   "cell_type": "markdown",
   "metadata": {},
   "source": [
    "## Decorators ('@' prefix)\n",
    "Sometimes we have function compositions that we use very often, for example, we have our timer function and we use it to time the factorial function very frequently. We might want then to create an extended function that uses timer with the factorial function, and only receives the argument of factorial: "
   ]
  },
  {
   "cell_type": "code",
   "execution_count": 64,
   "metadata": {},
   "outputs": [
    {
     "name": "stdout",
     "output_type": "stream",
     "text": [
      "time 0.000396\n"
     ]
    }
   ],
   "source": [
    "factorial_l = lambda n: 1 if n <= 1 else n * factorial_l(n-1)\n",
    "\n",
    "def timer(fnc):\n",
    "    def inner(arg):\n",
    "        t0 = time.time()\n",
    "        fnc(arg)\n",
    "        t1 = time.time()\n",
    "        return t1-t0\n",
    "\n",
    "    return inner\n",
    "    \n",
    "time_of_factorial = timer(factorial_l)\n",
    "print(\"time %f\" % (time_of_factorial(900)))"
   ]
  },
  {
   "cell_type": "markdown",
   "metadata": {},
   "source": [
    "A more convenient way to do this in python is with the use of decorators (@):"
   ]
  },
  {
   "cell_type": "code",
   "execution_count": 71,
   "metadata": {},
   "outputs": [
    {
     "name": "stdout",
     "output_type": "stream",
     "text": [
      "time 0.000379\n"
     ]
    }
   ],
   "source": [
    "@timer  #The decorator @ creates a composition where time_of_factorial_d is passed as argument to timer\n",
    "def time_of_factorial_d(n):\n",
    "    return factorial_l(n)\n",
    "\n",
    "print(\"time %f\" % (time_of_factorial_d(900)))"
   ]
  },
  {
   "cell_type": "markdown",
   "metadata": {},
   "source": [
    "A decorator is always a nested function, with the decoretor as the outer function and a nested function inside."
   ]
  },
  {
   "cell_type": "markdown",
   "metadata": {},
   "source": [
    "### Decorators with arguments\n",
    "A decorator with arguments is a function that returns a decorator, which should have a third nested function."
   ]
  },
  {
   "cell_type": "markdown",
   "metadata": {},
   "source": [
    "Let's say that we want to be able to change the time units in which time_of_factorial_d returns its result, for example, secons or miliseconds. We can use a double function nesting for this:"
   ]
  },
  {
   "cell_type": "code",
   "execution_count": 84,
   "metadata": {},
   "outputs": [
    {
     "name": "stdout",
     "output_type": "stream",
     "text": [
      "time in ms  1.235723\n"
     ]
    }
   ],
   "source": [
    "factorial_l = lambda n: 1 if n <= 1 else n * factorial_l(n-1)\n",
    "\n",
    "def timer_with_arguments(units='s'):\n",
    "    def timer(fnc):\n",
    "        def inner(arg):\n",
    "            t0 = time.time()\n",
    "            fnc(arg)\n",
    "            t1 = time.time()\n",
    "            diff = t1-t0\n",
    "            if units == 'ms':\n",
    "                diff *= 1000\n",
    "            return diff\n",
    "        \n",
    "        return inner\n",
    "    \n",
    "    return timer\n",
    "    \n",
    "time_of_factorial = timer_with_arguments('ms')(factorial_l) #complex call with to spaces for arguments!!\n",
    "print(\"time in ms  %f\" % (time_of_factorial(900)))"
   ]
  },
  {
   "cell_type": "markdown",
   "metadata": {},
   "source": [
    "In python we can do the same thing with a simpler syntax that avoids having several spaces for arguments using decorators with arguments:"
   ]
  },
  {
   "cell_type": "code",
   "execution_count": 89,
   "metadata": {},
   "outputs": [
    {
     "name": "stdout",
     "output_type": "stream",
     "text": [
      "time in ms  1.195192\n"
     ]
    }
   ],
   "source": [
    "@timer_with_arguments(units = 'ms')\n",
    "def time_of_factorial(n):\n",
    "    return factorial_l(n)\n",
    "\n",
    "print(\"time in ms  %f\" % time_of_factorial(900)) #much simpler syntax to use!"
   ]
  },
  {
   "cell_type": "markdown",
   "metadata": {},
   "source": [
    "# Functional design patterns\n"
   ]
  },
  {
   "cell_type": "markdown",
   "metadata": {},
   "source": [
    "## Currying\n",
    "Reducing a function with multiple arguments to a chain of higher-order functions that take one argument."
   ]
  },
  {
   "cell_type": "code",
   "execution_count": 90,
   "metadata": {},
   "outputs": [
    {
     "name": "stdout",
     "output_type": "stream",
     "text": [
      "6\n"
     ]
    }
   ],
   "source": [
    "#Function that receives 3 arguments and adds them\n",
    "def add(a, b, c):\n",
    "    return a + b + c\n",
    "\n",
    "print(add(1,2,3))"
   ]
  },
  {
   "cell_type": "markdown",
   "metadata": {},
   "source": [
    "We can use the *partial* function, that allows us to bind an argument to a function and reduce the number of arguments:"
   ]
  },
  {
   "cell_type": "code",
   "execution_count": 91,
   "metadata": {},
   "outputs": [
    {
     "name": "stdout",
     "output_type": "stream",
     "text": [
      "6\n"
     ]
    }
   ],
   "source": [
    "from functools import partial\n",
    "\n",
    "add_1 = partial(add, 1)\n",
    "add_1_2 = partial(add_1, 2)\n",
    "print(add_1_2(3))"
   ]
  },
  {
   "cell_type": "markdown",
   "metadata": {},
   "source": [
    "Currying in python is normally implemented using a decorator, rather that partial function. To make the process automatic, we use the *signature* funtion, which tells us what arguments does a function take:"
   ]
  },
  {
   "cell_type": "code",
   "execution_count": 98,
   "metadata": {},
   "outputs": [
    {
     "name": "stdout",
     "output_type": "stream",
     "text": [
      "6\n"
     ]
    }
   ],
   "source": [
    "from inspect import signature\n",
    "\n",
    "#Recursively reduce the number of arguments of a function to 1\n",
    "def curry(fnc):\n",
    "    \n",
    "    def inner(arg):\n",
    "        if len(signature(fnc).parameters) == 1:\n",
    "            return fnc(arg)\n",
    "        else:\n",
    "            return curry(partial(fnc, arg))\n",
    "        \n",
    "    return inner\n",
    "    \n",
    "#Lets curry a function\n",
    "@curry\n",
    "def add_c(a, b, c):\n",
    "    return a + b + c\n",
    "\n",
    "print(add_c(1)(2)(3)) #We have now a chain of functions that accept a function and a single argument"
   ]
  },
  {
   "cell_type": "markdown",
   "metadata": {},
   "source": [
    "## Monads\n",
    "Monads are variables that decide how they should be treated. In the following we present some monads."
   ]
  },
  {
   "cell_type": "markdown",
   "metadata": {},
   "source": [
    "### nan\n",
    "- Is a special value that says that is not a number\n",
    "- Any operation on nan returns nan\n",
    "- nan overrides operators"
   ]
  },
  {
   "cell_type": "markdown",
   "metadata": {},
   "source": [
    "### Maybe\n",
    "- It may take two kinds of values\n",
    " - Normal values (Just)\n",
    " - Invalid values (Nothing)\n",
    "- Any function applied to Nothing returns Nothing"
   ]
  },
  {
   "cell_type": "code",
   "execution_count": 100,
   "metadata": {},
   "outputs": [
    {
     "name": "stdout",
     "output_type": "stream",
     "text": [
      "HelloFriend\n"
     ]
    }
   ],
   "source": [
    "# Function that takes snakecase (hello_friend) and returns cammelcase (HelloFriend)\n",
    "def camelcase(snakecase):\n",
    "    return ''.join([w.capitalize() for w in snakecase.split('_')])\n",
    "\n",
    "print(camelcase('hello_friend'))"
   ]
  },
  {
   "cell_type": "markdown",
   "metadata": {},
   "source": [
    "We implement now the maybe monad to detect when things go wrong in our code, particularly, if the type of argument cannot be processed by the function."
   ]
  },
  {
   "cell_type": "code",
   "execution_count": 105,
   "metadata": {},
   "outputs": [
    {
     "name": "stdout",
     "output_type": "stream",
     "text": [
      "SomeFunction\n",
      "Nothing\n",
      "Nothing\n"
     ]
    }
   ],
   "source": [
    "#Declare Just and Nothing objects, following the specifications\n",
    "class Just:\n",
    "    def __init__(self, value):\n",
    "        self._value = value\n",
    "        \n",
    "    def bind(self, fnc):\n",
    "        try:\n",
    "            return Just(fnc(self._value))\n",
    "        except:\n",
    "            return Nothing()\n",
    "        \n",
    "    def __repr__(self): #returns a representation but for the machine, not necessarily a str like __str__\n",
    "        return self._value\n",
    "    \n",
    "class Nothing:\n",
    "    def bind(self, fnc):\n",
    "        return Nothing()\n",
    "    \n",
    "    def __repr__(self):\n",
    "        return 'Nothing'\n",
    "    \n",
    "#Let's try our maybe monad with the camelcase function\n",
    "print(Just('some_function').bind(camelcase)) #Valid value for camelcase, returns the result\n",
    "print(Nothing().bind(camelcase)) #Any bind to Nothing returns Nothing\n",
    "print(Just(10).bind(camelcase)) #Invalid value for camelcase, returns Nothing"
   ]
  },
  {
   "cell_type": "markdown",
   "metadata": {},
   "source": [
    "### List\n",
    "- Defines a series of values\n",
    "- Any function applied to a list monad is applied to each element<br> and the result is a new list"
   ]
  },
  {
   "cell_type": "code",
   "execution_count": 107,
   "metadata": {},
   "outputs": [
    {
     "data": {
      "text/plain": [
       "['SomeText', 'MoreSnake', 'AndMoreSnake']"
      ]
     },
     "execution_count": 107,
     "metadata": {},
     "output_type": "execute_result"
    }
   ],
   "source": [
    "class List:\n",
    "    def __init__(self, values):\n",
    "        self._values = values\n",
    "        \n",
    "    def bind(self, fnc):\n",
    "        return List([fnc(v) for v in self._values])\n",
    "    \n",
    "    def __repr__(self):\n",
    "        return str(self._values)\n",
    "\n",
    "List(['some_text', 'more_snake', 'and_more_snake']).bind(camelcase)"
   ]
  }
 ],
 "metadata": {
  "kernelspec": {
   "display_name": "Python 3",
   "language": "python",
   "name": "python3"
  },
  "language_info": {
   "codemirror_mode": {
    "name": "ipython",
    "version": 3
   },
   "file_extension": ".py",
   "mimetype": "text/x-python",
   "name": "python",
   "nbconvert_exporter": "python",
   "pygments_lexer": "ipython3",
   "version": "3.8.10"
  }
 },
 "nbformat": 4,
 "nbformat_minor": 4
}
