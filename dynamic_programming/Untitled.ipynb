{
 "cells": [
  {
   "cell_type": "markdown",
   "metadata": {},
   "source": [
    "# Dynamic programming"
   ]
  },
  {
   "cell_type": "markdown",
   "metadata": {},
   "source": [
    "### Memoization: The Fibonacci problem\n",
    "Take the problem of computing the nth term of the Fibonacci sequence. A slow solution is"
   ]
  },
  {
   "cell_type": "code",
   "execution_count": 7,
   "metadata": {},
   "outputs": [
    {
     "name": "stdout",
     "output_type": "stream",
     "text": [
      "13\n",
      "6765\n"
     ]
    }
   ],
   "source": [
    "#Slow\n",
    "def fib(n):\n",
    "    if n <= 2:\n",
    "        return 1\n",
    "    else:\n",
    "        return fib(n-1) + fib(n-2)\n",
    "\n",
    "print(fib(7))\n",
    "print(fib(20))"
   ]
  },
  {
   "cell_type": "markdown",
   "metadata": {},
   "source": [
    "The previous algorithm is slow because we repeat many computations, as it can be seen as a tree that divides in two at each branch until it gets to the base cases (which are also repeated many times). As each call to the function spawns two more calls, we have a number of calls: $1+1*2+2*2+4*2+\\dots=2^0+2^1+2^2+2^3+\\dots$, which in the worst case scenario has of the order of $n$ terms. Each call takes a unit of time and also a unit of space (memory), as it has to save each call on the stack for later use, but as there is a single processor, no more than $n$ calls will be in queue at any given time. Therefore, the time complexity of the algorithm is $O(2^n)$ and the space complexity is $O(n)$. \n",
    "<img src=\"fibo.png\" width=400/>"
   ]
  },
  {
   "cell_type": "markdown",
   "metadata": {},
   "source": [
    "However, we know that once we have, say, the result for fib(3)=2, we could use it whenever we need fib(3) instead of make a new call (and the tree of calls thereof) to compute it again. *Dynamic programming* is about dividing a problem into similar but smaller subproblems (like recursion), but then identifying when we have duplicate structures."
   ]
  },
  {
   "cell_type": "markdown",
   "metadata": {},
   "source": [
    "*Memoization* is the practice of storing information that, can save us from making duplicate computations, into some data structure for later use."
   ]
  },
  {
   "cell_type": "code",
   "execution_count": 15,
   "metadata": {},
   "outputs": [
    {
     "name": "stdout",
     "output_type": "stream",
     "text": [
      "13\n",
      "6765\n",
      "12586269025\n"
     ]
    }
   ],
   "source": [
    "#Using a dictionary to store the results of calls\n",
    "def fib_m(n, memo = {}):\n",
    "    if n not in memo:\n",
    "        if n <= 2:\n",
    "            memo[n] = 1\n",
    "        else:\n",
    "            memo[n] = fib_m(n-1, memo) + fib_m(n-2, memo)\n",
    "    #print(memo)\n",
    "    return memo[n]\n",
    "\n",
    "print(fib_m(7))\n",
    "print(fib_m(20))\n",
    "print(fib_m(50))"
   ]
  },
  {
   "cell_type": "markdown",
   "metadata": {},
   "source": [
    "We see now that we only make a single call to the function with a particular argument and store the value in the dictionary for later use. This means that every time we make a call for an unsaved value $i$, this will spawn a single recursive call and a read from memory. This means our time and space complexities are now both $O(n)$.\n",
    "<img src=\"memofib.png\" width=400/>"
   ]
  },
  {
   "cell_type": "markdown",
   "metadata": {},
   "source": [
    "### Memoization: The 2D traveler problem\n",
    "Suppose we have a $m\\times n$ 2D square grid and a traveler, that can only move down or right, has to go from the top-left corner to the bottom-right one. In how many ways is it possible to go from the initial to the final point?<br>\n",
    "We begin by finding out how to state the problem in terms of smaller, but similar, problems. Note that as the traveler can only move down or right, after each move the size of the accessible space will decrease, and the problem shrinks:\n",
    "<img src=\"trav1.png\" width=300/>\n",
    "<img src=\"trav2.png\" width=300/>\n",
    "<img src=\"trav3.png\" width=300/>\n",
    "As a base case we would have the problem of having either a $2\\times 1$ or a $1\\times 2$ grid, where there is single path. This problem can also be seen as a tree, where each node has the size of the accessible grid from that point, and its children are the two grid sizes that it can shrink to (or a single one if it gets to an edge).\n",
    "<img src=\"travtree.png\" width=300>"
   ]
  },
  {
   "cell_type": "code",
   "execution_count": 34,
   "metadata": {},
   "outputs": [
    {
     "name": "stdout",
     "output_type": "stream",
     "text": [
      "3\n",
      "3\n",
      "6\n"
     ]
    }
   ],
   "source": [
    "#Slow\n",
    "def gridTraveler(m,n):\n",
    "    if m == 0 or n == 0:\n",
    "        return 0\n",
    "    elif m == 1 and n == 1:\n",
    "        return 1\n",
    "    else:\n",
    "        return gridTraveler(m-1,n) + gridTraveler(m,n-1)\n",
    "\n",
    "print(gridTraveler(2,3))\n",
    "print(gridTraveler(3,2))\n",
    "print(gridTraveler(3,3))\n",
    "#print(gridTraveler(18,18)) #Exceeds recursion depth"
   ]
  },
  {
   "cell_type": "markdown",
   "metadata": {},
   "source": [
    "In the worst case scenario we see that this binary tree has a height of max$(m,n)$+1, so its time complexity is $O(2^{\\text{max}(m,n)+1})$, while its space complexity is $O(\\text{max}(m,n)+1)$. As in the Fibonacci case, we observe that there is duplicate work, as there are several ways to obtain the same reduced grid., additionally, we can use the vertical-horizontal symmetry, as the number of ways to traverse an $m\\times n$ grid is the same number of ways to traverse an $n\\times m$ grid. We will now memoize the problem by storing the values of the smaller problems ant taking the symmetry into account:"
   ]
  },
  {
   "cell_type": "code",
   "execution_count": 37,
   "metadata": {},
   "outputs": [
    {
     "name": "stdout",
     "output_type": "stream",
     "text": [
      "3\n",
      "3\n",
      "6\n",
      "10\n",
      "2333606220\n"
     ]
    }
   ],
   "source": [
    "def gridTraveler_m(m,n, memo = {}):\n",
    "    key = \"%d,%d\" % (max(m,n), min(m,n))\n",
    "    if key not in memo:\n",
    "        if m == 0 or n == 0:\n",
    "            memo[key] = 0\n",
    "        elif m == 1 and n == 1:\n",
    "            memo[key] = 1\n",
    "        else:\n",
    "            memo[key] = gridTraveler_m(m-1,n, memo) + gridTraveler_m(m,n-1, memo) \n",
    "    #print(key)\n",
    "    return memo[key]\n",
    "        \n",
    "print(gridTraveler_m(2,3))\n",
    "print(gridTraveler_m(3,2))\n",
    "print(gridTraveler_m(3,3))\n",
    "print(gridTraveler_m(4,3))\n",
    "print(gridTraveler_m(18,18))"
   ]
  },
  {
   "cell_type": "markdown",
   "metadata": {},
   "source": [
    "Now we continue to have a space complexity of order $O(\\text{max}(m,n))$, but our time complexity has reduced to $O((\\text{max}(m,n)+1)*\\text{min}(m,n))$."
   ]
  },
  {
   "cell_type": "markdown",
   "metadata": {},
   "source": [
    "### Memoization: The canSum problem\n",
    "The problem consists in the following: given a set of $n$ non-negative  integers $\\{x_1,\\dots,x_n\\}$, we need to figure out if a target non-negative integer $m$ can be obtained by adding any combination of the numbers in the set (including repeats).<br>\n",
    "For example, if the set is $\\{5,3,4,7\\}$ and the target is $7$, then the answer is True, because we can obtain $7$ either by taking just the $7$ in the set or by adding $3+4$. To obtain a recursive solution we note that we can substract all possible combinations of the set from the target, and if at any point we obtain $0$, then the result is True. Otherwise it is False. Note that if at any point the result is smaller than any of the numbers in the set we stop the substraction process, as it is no longer possible to substract any set member without obtaining a negative value. \n",
    "<img src=\"canSum1.png\" width=500>"
   ]
  },
  {
   "cell_type": "code",
   "execution_count": 9,
   "metadata": {},
   "outputs": [
    {
     "name": "stdout",
     "output_type": "stream",
     "text": [
      "True\n",
      "True\n",
      "False\n",
      "True\n"
     ]
    }
   ],
   "source": [
    "#Slow\n",
    "def canSum(target, nums):\n",
    "    if target == 0:\n",
    "        return True\n",
    "    elif target < min(nums):\n",
    "        return False\n",
    "    else:\n",
    "        res = False\n",
    "        for i in nums:\n",
    "            res = res or canSum(target-i, nums)\n",
    "        return res\n",
    "    \n",
    "print(canSum(7, [2,3]))\n",
    "print(canSum(7, [5,3,4,7]))\n",
    "print(canSum(7, [2,4]))\n",
    "print(canSum(8, [2,3,5]))\n",
    "#print(canSum(300, [7,14])) #Takes a long time"
   ]
  },
  {
   "cell_type": "markdown",
   "metadata": {},
   "source": [
    "In the worst case (when 1 is in the set) the tree will have a height of $m$, and at each node it will branch $n$ times, that is, the time complexity is $O(n^m)$, while we might have at any given moment $m$ calls to the function (one for for each level of the tree), that is, the space complexity is $O(m)$. "
   ]
  },
  {
   "cell_type": "markdown",
   "metadata": {},
   "source": [
    "By looking at a tree, we can identify that there are duplicated structures in it, which means we can memoize it to avoid some recursive calls.\n",
    "<img src=\"canSum2.png\" width=600>"
   ]
  },
  {
   "cell_type": "code",
   "execution_count": 32,
   "metadata": {},
   "outputs": [
    {
     "name": "stdout",
     "output_type": "stream",
     "text": [
      "True\n",
      "True\n",
      "False\n",
      "True\n",
      "False\n"
     ]
    }
   ],
   "source": [
    "def canSum_m(target, nums, memo = {}):\n",
    "    #print(memo)\n",
    "    if target not in memo:\n",
    "        #print(target)\n",
    "        if target == 0:\n",
    "            memo[target] = True\n",
    "        elif target < min(nums):\n",
    "            memo[target] = False\n",
    "        else:\n",
    "            res = False\n",
    "            for i in nums:\n",
    "                res = res or canSum_m(target-i, nums, memo)\n",
    "            memo[target] = res\n",
    "    return memo[target]\n",
    "\n",
    "#NOTE: for some reason memo is sometimes retained from one call to the other!!!!!!!!\n",
    "print(canSum_m(7, [2,3], {}))\n",
    "print(canSum_m(7, [5,3,4,7], {}))\n",
    "print(canSum_m(7, [2,4], {}))\n",
    "print(canSum_m(8, [2,3,5], {}))\n",
    "print(canSum_m(300, [7,14], {}))"
   ]
  },
  {
   "cell_type": "markdown",
   "metadata": {},
   "source": [
    "Now that the algorithm is memoized we still have a space complexity of $O(m)$, but we need to compute that canSum for a particular target only once, and the number of targets is, at most, $m$, while for each of these call we need to read at most $n$ values from memory. That is, the time complexity becomes $O(m*n)$."
   ]
  },
  {
   "cell_type": "markdown",
   "metadata": {},
   "source": [
    "### Memoization recepie\n",
    "First part\n",
    "- Visualize the problem as a tree\n",
    "- Implement a recursive algorithm\n",
    "- Test it\n",
    "\n",
    "Second part\n",
    "- Add a memo object\n",
    "- Store return values into the memo\n",
    "- Use the stored values whenever they are available, instead of making a recursive call"
   ]
  },
  {
   "cell_type": "markdown",
   "metadata": {},
   "source": [
    "### Tabulation: The Fibonacci problem\n",
    "We solve again the Fibonacci problem, but this time we will start at 0:"
   ]
  },
  {
   "cell_type": "code",
   "execution_count": 1,
   "metadata": {},
   "outputs": [
    {
     "name": "stdout",
     "output_type": "stream",
     "text": [
      "13\n",
      "6765\n"
     ]
    }
   ],
   "source": [
    "#Slow\n",
    "def fib(n):\n",
    "    if n == 0 or n == 1:\n",
    "        return n\n",
    "    else:\n",
    "        return fib(n-1) + fib(n-2)\n",
    "\n",
    "print(fib(7))\n",
    "print(fib(20))"
   ]
  },
  {
   "cell_type": "markdown",
   "metadata": {},
   "source": [
    "Again, the space complexity of the algorithm is $O(n)$ and the time complexity is $O(2^n)$. This time we will save again pervious results in memory to improve our time complexity, but weu will save them in a table (an 1D array in this case) and compute the values iteratively:"
   ]
  },
  {
   "cell_type": "code",
   "execution_count": 3,
   "metadata": {},
   "outputs": [
    {
     "name": "stdout",
     "output_type": "stream",
     "text": [
      "13\n",
      "6765\n",
      "12586269025\n"
     ]
    }
   ],
   "source": [
    "def fib_t(n):\n",
    "    table = [0 for i in range(n+1)]\n",
    "    table[1] = 1\n",
    "    for i in range(2,n+1):\n",
    "        table[i] = table[i-1] + table[i-2]\n",
    "    return table[n]\n",
    "\n",
    "print(fib_t(7))\n",
    "print(fib_t(20))\n",
    "print(fib_t(50))"
   ]
  },
  {
   "cell_type": "markdown",
   "metadata": {},
   "source": [
    "Now, our space complexity continues to be $O(n)$, but our time complexity is also $O(n)$."
   ]
  },
  {
   "cell_type": "markdown",
   "metadata": {},
   "source": [
    "### Tabulation: The 2D traveler problem\n",
    "In the original recursive method we had space complexity $O(\\text{max}(m,n)+1)$ and time complexity $O(2^{\\text{max}(m,n)+1})$. In this case we are goint to use an $m+1\\times n+1$ table to store our results. We begin by initializing the base cases $0\\times x$, $x\\times0$, and $1\\times1$, and proceed to fill the table iteratively by using the fact, which is clear in the recursive solution, that the number of ways to traverse a grid of size $i\\times j$ is the sum of the number of ways to traverse a $i-1\\times j$ grid, plus the number of ways to traverse a $i\\times j-1$ grid: "
   ]
  },
  {
   "cell_type": "code",
   "execution_count": 5,
   "metadata": {},
   "outputs": [
    {
     "name": "stdout",
     "output_type": "stream",
     "text": [
      "3\n",
      "3\n",
      "6\n",
      "10\n",
      "2333606220\n"
     ]
    }
   ],
   "source": [
    "def gridTraveler_t(m,n):\n",
    "    table = [[0 for j in range(n+1)] for i in range(m+1)]\n",
    "    table[1][1] = 1\n",
    "    for i in range(1,m+1):\n",
    "        for j in range(1,n+1):\n",
    "            if i*j > 1:\n",
    "                table[i][j] = table[i-1][j] + table[i][j-1]\n",
    "    return table[m][n]\n",
    "\n",
    "print(gridTraveler_t(2,3))\n",
    "print(gridTraveler_t(3,2))\n",
    "print(gridTraveler_t(3,3))\n",
    "print(gridTraveler_t(4,3))\n",
    "print(gridTraveler_t(18,18))"
   ]
  },
  {
   "cell_type": "markdown",
   "metadata": {},
   "source": [
    "We have now reduced out time complexity to $O(m*n)$, while we have made a trade-off by increasing our space complexity to $O((m+1)*(n+1))$. In this case the trade-off is still worth it, as long as we have enough memory."
   ]
  },
  {
   "cell_type": "markdown",
   "metadata": {},
   "source": [
    "### Tabulation: The canSum problem\n",
    "The original recursive algorithm had time complexity of $O(n^m)$ and space complexity of $O(m)$. We saw that whether a particular node gets a True or False value depends on the *or* reduction of the values of its children, with the True base case occurring for node $0$ and the False base case for any node value smaller than the smallest value in the set. To fill the rest of the table, remember that the sum a number with True lable and one of the lelements of the set is also true, so do a double iteration adding all the pairs of True numbers and set elements and set the position with this result as True too.  "
   ]
  },
  {
   "cell_type": "code",
   "execution_count": 50,
   "metadata": {},
   "outputs": [
    {
     "name": "stdout",
     "output_type": "stream",
     "text": [
      "True\n",
      "True\n",
      "False\n",
      "True\n",
      "False\n"
     ]
    }
   ],
   "source": [
    "def canSum_t(target, nums):\n",
    "    table = [False for i in range(target+1)]\n",
    "    table[0] = True\n",
    "    for n in nums:\n",
    "        table[n] = True\n",
    "    for i in range(0, target):\n",
    "        if table[i]:\n",
    "            for j in nums:\n",
    "                if i+j <= target:\n",
    "                    #print(i,j)\n",
    "                    table[i+j] = True\n",
    "    return table[target]\n",
    "\n",
    "print(canSum_t(7, [2,3]))\n",
    "print(canSum_t(7, [5,3,4,7]))\n",
    "print(canSum_t(7, [2,4]))\n",
    "print(canSum_t(8, [2,3,5]))\n",
    "print(canSum_t(300, [7,14]))"
   ]
  },
  {
   "cell_type": "markdown",
   "metadata": {},
   "source": [
    "This version of the algorithm has space complexity of $O(m)$ and time complexity of $O(m*n)$."
   ]
  },
  {
   "cell_type": "markdown",
   "metadata": {},
   "source": [
    "### Tabulation recepie\n",
    "- Visualize the problem as a table\n",
    "- Size the table based on the inputs\n",
    "- Initialize the known cases (usually this includes the base cases of the recursion)\n",
    "- Use the recursion relation to fill the rest of the table iteratively"
   ]
  }
 ],
 "metadata": {
  "kernelspec": {
   "display_name": "Python 3",
   "language": "python",
   "name": "python3"
  },
  "language_info": {
   "codemirror_mode": {
    "name": "ipython",
    "version": 3
   },
   "file_extension": ".py",
   "mimetype": "text/x-python",
   "name": "python",
   "nbconvert_exporter": "python",
   "pygments_lexer": "ipython3",
   "version": "3.8.10"
  }
 },
 "nbformat": 4,
 "nbformat_minor": 4
}
